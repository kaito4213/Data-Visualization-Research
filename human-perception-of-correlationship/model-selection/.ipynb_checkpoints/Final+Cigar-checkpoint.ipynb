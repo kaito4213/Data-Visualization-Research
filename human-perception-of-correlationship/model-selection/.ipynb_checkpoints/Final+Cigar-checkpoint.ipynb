{
 "cells": [
  {
   "cell_type": "markdown",
   "metadata": {},
   "source": [
    "## Cigar\n",
    "#### state\n",
    "#### year\n",
    "#### price\n",
    "#### pop\n",
    "#### pop16\n",
    "#### cpi\n",
    "#### ndi\n",
    "#### sales\n",
    "#### pimin"
   ]
  },
  {
   "cell_type": "code",
   "execution_count": 1,
   "metadata": {
    "collapsed": true
   },
   "outputs": [],
   "source": [
    "import pandas as pd\n",
    "import numpy as np\n",
    "import seaborn as sb\n",
    "import matplotlib.pyplot as plt\n",
    "from sklearn.preprocessing import StandardScaler"
   ]
  },
  {
   "cell_type": "code",
   "execution_count": 4,
   "metadata": {
    "collapsed": false
   },
   "outputs": [
    {
     "data": {
      "text/html": [
       "<div>\n",
       "<table border=\"1\" class=\"dataframe\">\n",
       "  <thead>\n",
       "    <tr style=\"text-align: right;\">\n",
       "      <th></th>\n",
       "      <th>state</th>\n",
       "      <th>year</th>\n",
       "      <th>price</th>\n",
       "      <th>pop</th>\n",
       "      <th>pop16</th>\n",
       "      <th>cpi</th>\n",
       "      <th>ndi</th>\n",
       "      <th>sales</th>\n",
       "      <th>pimin</th>\n",
       "    </tr>\n",
       "  </thead>\n",
       "  <tbody>\n",
       "    <tr>\n",
       "      <th>0</th>\n",
       "      <td>1</td>\n",
       "      <td>63</td>\n",
       "      <td>28.6</td>\n",
       "      <td>3383.0</td>\n",
       "      <td>2236.5</td>\n",
       "      <td>30.6</td>\n",
       "      <td>1558.304530</td>\n",
       "      <td>93.9</td>\n",
       "      <td>26.1</td>\n",
       "    </tr>\n",
       "    <tr>\n",
       "      <th>1</th>\n",
       "      <td>1</td>\n",
       "      <td>64</td>\n",
       "      <td>29.8</td>\n",
       "      <td>3431.0</td>\n",
       "      <td>2276.7</td>\n",
       "      <td>31.0</td>\n",
       "      <td>1684.073202</td>\n",
       "      <td>95.4</td>\n",
       "      <td>27.5</td>\n",
       "    </tr>\n",
       "    <tr>\n",
       "      <th>2</th>\n",
       "      <td>1</td>\n",
       "      <td>65</td>\n",
       "      <td>29.8</td>\n",
       "      <td>3486.0</td>\n",
       "      <td>2327.5</td>\n",
       "      <td>31.5</td>\n",
       "      <td>1809.841875</td>\n",
       "      <td>98.5</td>\n",
       "      <td>28.9</td>\n",
       "    </tr>\n",
       "    <tr>\n",
       "      <th>3</th>\n",
       "      <td>1</td>\n",
       "      <td>66</td>\n",
       "      <td>31.5</td>\n",
       "      <td>3524.0</td>\n",
       "      <td>2369.7</td>\n",
       "      <td>32.4</td>\n",
       "      <td>1915.160357</td>\n",
       "      <td>96.4</td>\n",
       "      <td>29.5</td>\n",
       "    </tr>\n",
       "    <tr>\n",
       "      <th>4</th>\n",
       "      <td>1</td>\n",
       "      <td>67</td>\n",
       "      <td>31.6</td>\n",
       "      <td>3533.0</td>\n",
       "      <td>2393.7</td>\n",
       "      <td>33.4</td>\n",
       "      <td>2023.546368</td>\n",
       "      <td>95.5</td>\n",
       "      <td>29.6</td>\n",
       "    </tr>\n",
       "    <tr>\n",
       "      <th>5</th>\n",
       "      <td>1</td>\n",
       "      <td>68</td>\n",
       "      <td>35.6</td>\n",
       "      <td>3522.0</td>\n",
       "      <td>2405.2</td>\n",
       "      <td>34.8</td>\n",
       "      <td>2202.485536</td>\n",
       "      <td>88.4</td>\n",
       "      <td>32.0</td>\n",
       "    </tr>\n",
       "    <tr>\n",
       "      <th>6</th>\n",
       "      <td>1</td>\n",
       "      <td>69</td>\n",
       "      <td>36.6</td>\n",
       "      <td>3531.0</td>\n",
       "      <td>2411.9</td>\n",
       "      <td>36.7</td>\n",
       "      <td>2377.334666</td>\n",
       "      <td>90.1</td>\n",
       "      <td>32.8</td>\n",
       "    </tr>\n",
       "    <tr>\n",
       "      <th>7</th>\n",
       "      <td>1</td>\n",
       "      <td>70</td>\n",
       "      <td>39.6</td>\n",
       "      <td>3444.0</td>\n",
       "      <td>2394.6</td>\n",
       "      <td>38.8</td>\n",
       "      <td>2591.039159</td>\n",
       "      <td>89.8</td>\n",
       "      <td>34.3</td>\n",
       "    </tr>\n",
       "    <tr>\n",
       "      <th>8</th>\n",
       "      <td>1</td>\n",
       "      <td>71</td>\n",
       "      <td>42.7</td>\n",
       "      <td>3481.0</td>\n",
       "      <td>2443.5</td>\n",
       "      <td>40.5</td>\n",
       "      <td>2785.315971</td>\n",
       "      <td>95.4</td>\n",
       "      <td>35.8</td>\n",
       "    </tr>\n",
       "    <tr>\n",
       "      <th>9</th>\n",
       "      <td>1</td>\n",
       "      <td>72</td>\n",
       "      <td>42.3</td>\n",
       "      <td>3511.0</td>\n",
       "      <td>2484.7</td>\n",
       "      <td>41.8</td>\n",
       "      <td>3034.808297</td>\n",
       "      <td>101.1</td>\n",
       "      <td>37.4</td>\n",
       "    </tr>\n",
       "  </tbody>\n",
       "</table>\n",
       "</div>"
      ],
      "text/plain": [
       "   state  year  price     pop   pop16   cpi          ndi  sales  pimin\n",
       "0      1    63   28.6  3383.0  2236.5  30.6  1558.304530   93.9   26.1\n",
       "1      1    64   29.8  3431.0  2276.7  31.0  1684.073202   95.4   27.5\n",
       "2      1    65   29.8  3486.0  2327.5  31.5  1809.841875   98.5   28.9\n",
       "3      1    66   31.5  3524.0  2369.7  32.4  1915.160357   96.4   29.5\n",
       "4      1    67   31.6  3533.0  2393.7  33.4  2023.546368   95.5   29.6\n",
       "5      1    68   35.6  3522.0  2405.2  34.8  2202.485536   88.4   32.0\n",
       "6      1    69   36.6  3531.0  2411.9  36.7  2377.334666   90.1   32.8\n",
       "7      1    70   39.6  3444.0  2394.6  38.8  2591.039159   89.8   34.3\n",
       "8      1    71   42.7  3481.0  2443.5  40.5  2785.315971   95.4   35.8\n",
       "9      1    72   42.3  3511.0  2484.7  41.8  3034.808297  101.1   37.4"
      ]
     },
     "execution_count": 4,
     "metadata": {},
     "output_type": "execute_result"
    }
   ],
   "source": [
    "data = pd.read_csv('Cigar.csv')\n",
    "data.drop(data.columns[0], inplace=True, axis=1)\n",
    "data.head(10)"
   ]
  },
  {
   "cell_type": "markdown",
   "metadata": {},
   "source": [
    "### Normalization"
   ]
  },
  {
   "cell_type": "code",
   "execution_count": 10,
   "metadata": {
    "collapsed": false
   },
   "outputs": [
    {
     "data": {
      "text/plain": [
       "array([[-1.78414583, -0.95541883, -0.23909105, ..., -1.17747174,\n",
       "        -1.25717336, -0.96058488],\n",
       "       [-1.78414583, -0.92682769, -0.22914716, ..., -1.16651767,\n",
       "        -1.2306742 , -0.92404017],\n",
       "       [-1.78414583, -0.92682769, -0.21775313, ..., -1.15282507,\n",
       "        -1.20417504, -0.88749546],\n",
       "       ..., \n",
       "       [ 1.67000856,  1.44861942, -0.8423742 , ...,  1.56378544,\n",
       "         1.33708222,  1.98387459],\n",
       "       [ 1.67000856,  1.38905455, -0.84108978, ...,  1.71440397,\n",
       "         1.5064831 ,  2.1065604 ],\n",
       "       [ 1.67000856,  2.05856372, -0.83980537, ...,  1.82668323,\n",
       "         1.70285328,  2.53465557]])"
      ]
     },
     "execution_count": 10,
     "metadata": {},
     "output_type": "execute_result"
    }
   ],
   "source": [
    "data_x = data[['state','price','pop','pop16','cpi','ndi','pimin']]\n",
    "ss = StandardScaler()\n",
    "ss.fit(data_x)\n",
    "x_data_ss = ss.transform(data_x)\n",
    "x_data_ss"
   ]
  },
  {
   "cell_type": "code",
   "execution_count": 11,
   "metadata": {
    "collapsed": true
   },
   "outputs": [],
   "source": [
    "data_y = data['sales']"
   ]
  },
  {
   "cell_type": "markdown",
   "metadata": {},
   "source": [
    "### ridge"
   ]
  },
  {
   "cell_type": "code",
   "execution_count": 12,
   "metadata": {
    "collapsed": false
   },
   "outputs": [
    {
     "name": "stderr",
     "output_type": "stream",
     "text": [
      "/Users/baobao/anaconda/lib/python3.6/site-packages/sklearn/cross_validation.py:44: DeprecationWarning: This module was deprecated in version 0.18 in favor of the model_selection module into which all the refactored classes and functions are moved. Also note that the interface of the new CV iterators are different from that of this module. This module will be removed in 0.20.\n",
      "  \"This module will be removed in 0.20.\", DeprecationWarning)\n",
      "/Users/baobao/anaconda/lib/python3.6/site-packages/sklearn/grid_search.py:43: DeprecationWarning: This module was deprecated in version 0.18 in favor of the model_selection module into which all the refactored classes and functions are moved. This module will be removed in 0.20.\n",
      "  DeprecationWarning)\n"
     ]
    }
   ],
   "source": [
    "from scipy.stats import uniform as sp_rand\n",
    "from sklearn.linear_model import Ridge\n",
    "from sklearn.model_selection import GridSearchCV\n",
    "from sklearn.grid_search import RandomizedSearchCV"
   ]
  },
  {
   "cell_type": "code",
   "execution_count": 13,
   "metadata": {
    "collapsed": false
   },
   "outputs": [
    {
     "data": {
      "text/plain": [
       "Ridge(alpha=1.0, copy_X=True, fit_intercept=True, max_iter=None,\n",
       "   normalize=False, random_state=None, solver='auto', tol=0.001)"
      ]
     },
     "execution_count": 13,
     "metadata": {},
     "output_type": "execute_result"
    }
   ],
   "source": [
    "ridge = Ridge()\n",
    "ridge.fit(x_data_ss,data_y)"
   ]
  },
  {
   "cell_type": "code",
   "execution_count": 14,
   "metadata": {
    "collapsed": false
   },
   "outputs": [
    {
     "data": {
      "text/plain": [
       "0.25610056978127571"
      ]
     },
     "execution_count": 14,
     "metadata": {},
     "output_type": "execute_result"
    }
   ],
   "source": [
    "# check the accuracy\n",
    "ridge.score(x_data_ss,data_y)"
   ]
  },
  {
   "cell_type": "code",
   "execution_count": 15,
   "metadata": {
    "collapsed": false
   },
   "outputs": [
    {
     "data": {
      "text/plain": [
       "array([ -3.15198772, -61.85207894,  -7.98989674,   4.4425455 ,\n",
       "         6.39519468,  27.26241466,  20.93280049])"
      ]
     },
     "execution_count": 15,
     "metadata": {},
     "output_type": "execute_result"
    }
   ],
   "source": [
    "# decision_function(ridge)\n",
    "ridge.coef_"
   ]
  },
  {
   "cell_type": "markdown",
   "metadata": {},
   "source": [
    "### lasso"
   ]
  },
  {
   "cell_type": "code",
   "execution_count": 16,
   "metadata": {
    "collapsed": true
   },
   "outputs": [],
   "source": [
    "from scipy.stats import uniform as sp_rand\n",
    "from sklearn.linear_model import Lasso\n",
    "from sklearn.model_selection import GridSearchCV\n",
    "from sklearn.grid_search import RandomizedSearchCV"
   ]
  },
  {
   "cell_type": "code",
   "execution_count": 17,
   "metadata": {
    "collapsed": false
   },
   "outputs": [
    {
     "data": {
      "text/plain": [
       "Lasso(alpha=1.0, copy_X=True, fit_intercept=True, max_iter=1000,\n",
       "   normalize=False, positive=False, precompute=False, random_state=None,\n",
       "   selection='cyclic', tol=0.0001, warm_start=False)"
      ]
     },
     "execution_count": 17,
     "metadata": {},
     "output_type": "execute_result"
    }
   ],
   "source": [
    "Lasso = Lasso()\n",
    "Lasso.fit(x_data_ss,data_y)"
   ]
  },
  {
   "cell_type": "code",
   "execution_count": 18,
   "metadata": {
    "collapsed": false
   },
   "outputs": [
    {
     "data": {
      "text/plain": [
       "0.19451762777101533"
      ]
     },
     "execution_count": 18,
     "metadata": {},
     "output_type": "execute_result"
    }
   ],
   "source": [
    "# check the accuracy\n",
    "Lasso.score(x_data_ss,data_y)"
   ]
  },
  {
   "cell_type": "code",
   "execution_count": 19,
   "metadata": {
    "collapsed": false
   },
   "outputs": [
    {
     "data": {
      "text/plain": [
       "array([ -2.15051101, -21.94457292,  -2.57494979,  -0.        ,\n",
       "         0.        ,  14.36004098,  -0.        ])"
      ]
     },
     "execution_count": 19,
     "metadata": {},
     "output_type": "execute_result"
    }
   ],
   "source": [
    "Lasso.coef_"
   ]
  },
  {
   "cell_type": "code",
   "execution_count": null,
   "metadata": {
    "collapsed": true
   },
   "outputs": [],
   "source": []
  }
 ],
 "metadata": {
  "anaconda-cloud": {},
  "kernelspec": {
   "display_name": "Python [default]",
   "language": "python",
   "name": "python3"
  },
  "language_info": {
   "codemirror_mode": {
    "name": "ipython",
    "version": 3
   },
   "file_extension": ".py",
   "mimetype": "text/x-python",
   "name": "python",
   "nbconvert_exporter": "python",
   "pygments_lexer": "ipython3",
   "version": "3.5.2"
  }
 },
 "nbformat": 4,
 "nbformat_minor": 2
}
